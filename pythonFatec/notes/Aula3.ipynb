{
 "cells": [
  {
   "cell_type": "code",
   "execution_count": null,
   "id": "bae0f9f4",
   "metadata": {},
   "outputs": [],
   "source": [
    "print(\"Hello world!\")\n",
    "      \n",
    "\n",
    "    "
   ]
  },
  {
   "cell_type": "code",
   "execution_count": null,
   "id": "403a8c35",
   "metadata": {},
   "outputs": [],
   "source": [
    "True"
   ]
  },
  {
   "cell_type": "markdown",
   "id": "7714abd8",
   "metadata": {},
   "source": [
    "# TIPOS DE DADOS"
   ]
  },
  {
   "cell_type": "markdown",
   "id": "8d508b0f",
   "metadata": {},
   "source": [
    "### STRING"
   ]
  },
  {
   "cell_type": "code",
   "execution_count": null,
   "id": "d9a36cf9",
   "metadata": {},
   "outputs": [],
   "source": [
    "print('esse é um texto do tipo string de aspas simples')\n",
    "print(\"este é um texto do tipo string de aspas duplas\")\n",
    "print('''esse é um texto do tipo string de aspas triplas simples''')\n",
    "print(\"\"\"esse é um texto do tipo string de aspas triplas duplas\"\"\")\n"
   ]
  },
  {
   "cell_type": "markdown",
   "id": "7aec6f5a",
   "metadata": {},
   "source": [
    "### CASOS ESPECIAIS DAS STRINGS"
   ]
  },
  {
   "cell_type": "markdown",
   "id": "a742dc60",
   "metadata": {},
   "source": [
    "ESCAPE CHARACTER"
   ]
  },
  {
   "cell_type": "code",
   "execution_count": null,
   "id": "db1b24c5",
   "metadata": {},
   "outputs": [],
   "source": [
    "\"\\\"dont't look at me\\\"\" # invisible(invisível) characters"
   ]
  },
  {
   "cell_type": "code",
   "execution_count": 1,
   "id": "b1e30269",
   "metadata": {},
   "outputs": [
    {
     "name": "stdout",
     "output_type": "stream",
     "text": [
      "\"dont't look at me\"\n"
     ]
    }
   ],
   "source": [
    "print(\"\\\"dont't look at me\\\"\")"
   ]
  },
  {
   "cell_type": "code",
   "execution_count": null,
   "id": "c935155e",
   "metadata": {},
   "outputs": [],
   "source": [
    "print(\"Olá mundo,\\nmeu nome é Thallith\")\n",
    "print(\"Olá mundo, meu nome é Thallith\")\n",
    "print(\"Olá mundo,\\tmeu nome é Thallith\")"
   ]
  },
  {
   "cell_type": "markdown",
   "id": "56fbd798",
   "metadata": {},
   "source": [
    "## DESAFIO 1: em duas linhas imprima boas vindas ao usuário.\n"
   ]
  },
  {
   "cell_type": "code",
   "execution_count": null,
   "id": "186d3548",
   "metadata": {},
   "outputs": [],
   "source": [
    "# solução 1\n",
    "\n",
    "dados = input(\"digite seu nome e sua idade:\").split()\n",
    "print(f\"olá {dados[0]}.\\nSua idade é {dados[1]}.\")\n",
    "\n",
    "# solução 2\n",
    "\n",
    "dados = input(\"digite seu nome e sua idade:\").split()\n",
    "print(\"olá {}.\\nSua idade é {}.\".format(dados[0], dados[1]))\n",
    "\n",
    "nome, idade = input(\"digite seu nome e sua idade:\").split()\n",
    "print(f\"Olá {nome}.\\nSua idade é {idade}.\")\n"
   ]
  },
  {
   "cell_type": "code",
   "execution_count": 12,
   "id": "0bf43c9f",
   "metadata": {},
   "outputs": [],
   "source": [
    "# solução 2\n",
    "frutas = [\"toranja\", \"bergamota\", \"figo\"]"
   ]
  },
  {
   "cell_type": "markdown",
   "id": "15de5c07",
   "metadata": {},
   "source": [
    "### SPLIT\n"
   ]
  },
  {
   "cell_type": "code",
   "execution_count": null,
   "id": "2f6d6d91",
   "metadata": {},
   "outputs": [],
   "source": [
    "\"Nome,idade,cpf,email\".split(\",\")"
   ]
  },
  {
   "cell_type": "markdown",
   "id": "331a676e",
   "metadata": {},
   "source": [
    "### MANIPULANDO STRINGS/TEXTO\n"
   ]
  },
  {
   "cell_type": "code",
   "execution_count": 3,
   "id": "aef45046",
   "metadata": {},
   "outputs": [
    {
     "name": "stdout",
     "output_type": "stream",
     "text": [
      "\n",
      "COD,NOME,SIGLA\n",
      "35,São Paulo, SP\n",
      "41,Paraná, PR\n",
      "42,Santa Catarina, SC\n",
      "43,Rio Grande do Sul, RS\n",
      "50,Mato Grosso do Sul, MS\n",
      "11,Rondônia, RO\n",
      "12,Acre, AC\n",
      "13,Amazonas, AM\n",
      "14,Roraima, RR\n",
      "15,Pará, PA\n",
      "16,Amapá, AP\n",
      "17,Tocantins, TO\n",
      "21,Maranhão, MA\n",
      "24,Rio Grande do Norte, RN\n",
      "25,Paraíba, PB\n",
      "26,Pernambuco, PE\n",
      "27,Alagoas, AL\n",
      "28,Sergipe, SE\n",
      "29,Bahia, BA\n",
      "31,Minas Gerais, MG\n",
      "33,Rio de Janeiro, RJ\n",
      "51,Mato Grosso, MT\n",
      "52,Goiás, GO\n",
      "53,Distrito Federal, DF\n",
      "22,Piauí, PI\n",
      "23,Ceará, CE\n",
      "32,Espírito Santo, ES\n",
      "\n"
     ]
    }
   ],
   "source": [
    "estados = \"\"\"\n",
    "COD,NOME,SIGLA\n",
    "35,São Paulo, SP\n",
    "41,Paraná, PR\n",
    "42,Santa Catarina, SC\n",
    "43,Rio Grande do Sul, RS\n",
    "50,Mato Grosso do Sul, MS\n",
    "11,Rondônia, RO\n",
    "12,Acre, AC\n",
    "13,Amazonas, AM\n",
    "14,Roraima, RR\n",
    "15,Pará, PA\n",
    "16,Amapá, AP\n",
    "17,Tocantins, TO\n",
    "21,Maranhão, MA\n",
    "24,Rio Grande do Norte, RN\n",
    "25,Paraíba, PB\n",
    "26,Pernambuco, PE\n",
    "27,Alagoas, AL\n",
    "28,Sergipe, SE\n",
    "29,Bahia, BA\n",
    "31,Minas Gerais, MG\n",
    "33,Rio de Janeiro, RJ\n",
    "51,Mato Grosso, MT\n",
    "52,Goiás, GO\n",
    "53,Distrito Federal, DF\n",
    "22,Piauí, PI\n",
    "23,Ceará, CE\n",
    "32,Espírito Santo, ES\n",
    "\"\"\"\n",
    "print(estados)\n",
    "\n"
   ]
  },
  {
   "cell_type": "code",
   "execution_count": 8,
   "id": "860ee823",
   "metadata": {},
   "outputs": [
    {
     "data": {
      "text/plain": [
       "['COD,NOME,SIGLA',\n",
       " '35,São',\n",
       " 'Paulo,',\n",
       " 'SP',\n",
       " '41,Paraná,',\n",
       " 'PR',\n",
       " '42,Santa',\n",
       " 'Catarina,',\n",
       " 'SC',\n",
       " '43,Rio',\n",
       " 'Grande',\n",
       " 'do',\n",
       " 'Sul,',\n",
       " 'RS',\n",
       " '50,Mato',\n",
       " 'Grosso',\n",
       " 'do',\n",
       " 'Sul,',\n",
       " 'MS',\n",
       " '11,Rondônia,',\n",
       " 'RO',\n",
       " '12,Acre,',\n",
       " 'AC',\n",
       " '13,Amazonas,',\n",
       " 'AM',\n",
       " '14,Roraima,',\n",
       " 'RR',\n",
       " '15,Pará,',\n",
       " 'PA',\n",
       " '16,Amapá,',\n",
       " 'AP',\n",
       " '17,Tocantins,',\n",
       " 'TO',\n",
       " '21,Maranhão,',\n",
       " 'MA',\n",
       " '24,Rio',\n",
       " 'Grande',\n",
       " 'do',\n",
       " 'Norte,',\n",
       " 'RN',\n",
       " '25,Paraíba,',\n",
       " 'PB',\n",
       " '26,Pernambuco,',\n",
       " 'PE',\n",
       " '27,Alagoas,',\n",
       " 'AL',\n",
       " '28,Sergipe,',\n",
       " 'SE',\n",
       " '29,Bahia,',\n",
       " 'BA',\n",
       " '31,Minas',\n",
       " 'Gerais,',\n",
       " 'MG',\n",
       " '33,Rio',\n",
       " 'de',\n",
       " 'Janeiro,',\n",
       " 'RJ',\n",
       " '51,Mato',\n",
       " 'Grosso,',\n",
       " 'MT',\n",
       " '52,Goiás,',\n",
       " 'GO',\n",
       " '53,Distrito',\n",
       " 'Federal,',\n",
       " 'DF',\n",
       " '22,Piauí,',\n",
       " 'PI',\n",
       " '23,Ceará,',\n",
       " 'CE',\n",
       " '32,Espírito',\n",
       " 'Santo,',\n",
       " 'ES']"
      ]
     },
     "execution_count": 8,
     "metadata": {},
     "output_type": "execute_result"
    }
   ],
   "source": [
    "estados.split()"
   ]
  },
  {
   "cell_type": "code",
   "execution_count": 13,
   "id": "a7e32758",
   "metadata": {},
   "outputs": [
    {
     "data": {
      "text/plain": [
       "['',\n",
       " 'COD,NOME,SIGLA',\n",
       " '35,São Paulo, SP',\n",
       " '41,Paraná, PR',\n",
       " '42,Santa Catarina, SC',\n",
       " '43,Rio Grande do Sul, RS',\n",
       " '50,Mato Grosso do Sul, MS',\n",
       " '11,Rondônia, RO',\n",
       " '12,Acre, AC',\n",
       " '13,Amazonas, AM',\n",
       " '14,Roraima, RR',\n",
       " '15,Pará, PA',\n",
       " '16,Amapá, AP',\n",
       " '17,Tocantins, TO',\n",
       " '21,Maranhão, MA',\n",
       " '24,Rio Grande do Norte, RN',\n",
       " '25,Paraíba, PB',\n",
       " '26,Pernambuco, PE',\n",
       " '27,Alagoas, AL',\n",
       " '28,Sergipe, SE',\n",
       " '29,Bahia, BA',\n",
       " '31,Minas Gerais, MG',\n",
       " '33,Rio de Janeiro, RJ',\n",
       " '51,Mato Grosso, MT',\n",
       " '52,Goiás, GO',\n",
       " '53,Distrito Federal, DF',\n",
       " '22,Piauí, PI',\n",
       " '23,Ceará, CE',\n",
       " '32,Espírito Santo, ES',\n",
       " '']"
      ]
     },
     "execution_count": 13,
     "metadata": {},
     "output_type": "execute_result"
    }
   ],
   "source": [
    "estados.split(\"\\n\")"
   ]
  },
  {
   "cell_type": "code",
   "execution_count": 95,
   "id": "0a4abc95",
   "metadata": {},
   "outputs": [],
   "source": [
    "alunos = [    \"pablo\",\n",
    "    \"nicolas a.\",\n",
    "    \"raquel\",\n",
    "\n",
    "    \"patrick\",\n",
    "    \"lucas\",\n",
    "    \"rafael\",\n",
    "    \"rodolpho\",\n",
    "    \"natali\",\n",
    "    \"victor\",\n",
    "    \"thiago\",\n",
    "    \"roberval\",\n",
    "    \"vinicius\",\n",
    "    \"marcos\",\n",
    "    \"rodrigo\",\n",
    "    \"renan\",\n",
    "    \"nicolas f.\",\n",
    "    \"thalith\",\n",
    "    \"watuse\",\n",
    "    \"victoria\"\n",
    "]\n"
   ]
  },
  {
   "cell_type": "code",
   "execution_count": 99,
   "id": "ba344c8c",
   "metadata": {
    "scrolled": false
   },
   "outputs": [
    {
     "data": {
      "text/plain": [
       "['pablo',\n",
       " 'nicolas a.',\n",
       " 'rafael',\n",
       " 'rodolpho',\n",
       " 'victor',\n",
       " 'thiago',\n",
       " 'roberval',\n",
       " 'vinicius',\n",
       " 'marcos',\n",
       " 'rodrigo',\n",
       " 'renan',\n",
       " 'nicolas f.',\n",
       " 'thalith',\n",
       " 'watuse',\n",
       " 'victoria']"
      ]
     },
     "execution_count": 99,
     "metadata": {},
     "output_type": "execute_result"
    }
   ],
   "source": [
    "del alunos [2]\n",
    "alunos\n",
    "#alunos.pop (1)\n"
   ]
  },
  {
   "cell_type": "code",
   "execution_count": 119,
   "id": "112531a0",
   "metadata": {
    "scrolled": false
   },
   "outputs": [
    {
     "ename": "IndexError",
     "evalue": "list index out of range",
     "output_type": "error",
     "traceback": [
      "\u001b[1;31m---------------------------------------------------------------------------\u001b[0m",
      "\u001b[1;31mIndexError\u001b[0m                                Traceback (most recent call last)",
      "\u001b[1;32mC:\\Users\\FATECS~1\\AppData\\Local\\Temp/ipykernel_18864/3879874895.py\u001b[0m in \u001b[0;36m<module>\u001b[1;34m\u001b[0m\n\u001b[0;32m      1\u001b[0m \u001b[1;32mimport\u001b[0m \u001b[0mrandom\u001b[0m\u001b[1;33m\u001b[0m\u001b[1;33m\u001b[0m\u001b[0m\n\u001b[0;32m      2\u001b[0m \u001b[1;33m\u001b[0m\u001b[0m\n\u001b[1;32m----> 3\u001b[1;33m \u001b[0malunos\u001b[0m\u001b[1;33m.\u001b[0m\u001b[0mpop\u001b[0m\u001b[1;33m(\u001b[0m\u001b[0malunos\u001b[0m\u001b[1;33m.\u001b[0m\u001b[0mindex\u001b[0m\u001b[1;33m(\u001b[0m\u001b[0mrandom\u001b[0m\u001b[1;33m.\u001b[0m\u001b[0mchoice\u001b[0m\u001b[1;33m(\u001b[0m\u001b[0malunos\u001b[0m\u001b[1;33m)\u001b[0m\u001b[1;33m)\u001b[0m\u001b[1;33m)\u001b[0m\u001b[1;33m\u001b[0m\u001b[1;33m\u001b[0m\u001b[0m\n\u001b[0m",
      "\u001b[1;32mC:\\anaconda3\\lib\\random.py\u001b[0m in \u001b[0;36mchoice\u001b[1;34m(self, seq)\u001b[0m\n\u001b[0;32m    344\u001b[0m         \u001b[1;34m\"\"\"Choose a random element from a non-empty sequence.\"\"\"\u001b[0m\u001b[1;33m\u001b[0m\u001b[1;33m\u001b[0m\u001b[0m\n\u001b[0;32m    345\u001b[0m         \u001b[1;31m# raises IndexError if seq is empty\u001b[0m\u001b[1;33m\u001b[0m\u001b[1;33m\u001b[0m\u001b[0m\n\u001b[1;32m--> 346\u001b[1;33m         \u001b[1;32mreturn\u001b[0m \u001b[0mseq\u001b[0m\u001b[1;33m[\u001b[0m\u001b[0mself\u001b[0m\u001b[1;33m.\u001b[0m\u001b[0m_randbelow\u001b[0m\u001b[1;33m(\u001b[0m\u001b[0mlen\u001b[0m\u001b[1;33m(\u001b[0m\u001b[0mseq\u001b[0m\u001b[1;33m)\u001b[0m\u001b[1;33m)\u001b[0m\u001b[1;33m]\u001b[0m\u001b[1;33m\u001b[0m\u001b[1;33m\u001b[0m\u001b[0m\n\u001b[0m\u001b[0;32m    347\u001b[0m \u001b[1;33m\u001b[0m\u001b[0m\n\u001b[0;32m    348\u001b[0m     \u001b[1;32mdef\u001b[0m \u001b[0mshuffle\u001b[0m\u001b[1;33m(\u001b[0m\u001b[0mself\u001b[0m\u001b[1;33m,\u001b[0m \u001b[0mx\u001b[0m\u001b[1;33m,\u001b[0m \u001b[0mrandom\u001b[0m\u001b[1;33m=\u001b[0m\u001b[1;32mNone\u001b[0m\u001b[1;33m)\u001b[0m\u001b[1;33m:\u001b[0m\u001b[1;33m\u001b[0m\u001b[1;33m\u001b[0m\u001b[0m\n",
      "\u001b[1;31mIndexError\u001b[0m: list index out of range"
     ]
    }
   ],
   "source": [
    "import random\n",
    "\n",
    "alunos.pop(alunos.index(random.choice(alunos)))\n"
   ]
  },
  {
   "cell_type": "markdown",
   "id": "66d9a678",
   "metadata": {},
   "source": [
    "# requisitos para ser um dev de respeito\n"
   ]
  },
  {
   "cell_type": "code",
   "execution_count": 166,
   "id": "10be886c",
   "metadata": {},
   "outputs": [
    {
     "ename": "SyntaxError",
     "evalue": "invalid syntax (Temp/ipykernel_18864/3252969065.py, line 1)",
     "output_type": "error",
     "traceback": [
      "\u001b[1;36m  File \u001b[1;32m\"C:\\Users\\FATECS~1\\AppData\\Local\\Temp/ipykernel_18864/3252969065.py\"\u001b[1;36m, line \u001b[1;32m1\u001b[0m\n\u001b[1;33m    * Python: lógica de programação, portifólio, projetos e softwares criados(que resolvam problemas úteis)\u001b[0m\n\u001b[1;37m            ^\u001b[0m\n\u001b[1;31mSyntaxError\u001b[0m\u001b[1;31m:\u001b[0m invalid syntax\n"
     ]
    }
   ],
   "source": [
    "* Python: lógica de programação, portifólio, projetos e softwares criados(que resolvam problemas úteis)\n",
    "* Banco de dados: CSV, SQL: Sqlite3, Postgres, MySQL\n",
    "* Bibliotecas: Web (Flask, FastAPI, \"DJANGO eu não recomendo), DS (pandas, numpy, tensor flow, spark)\n",
    "* Processos/programação em nuvem: GCP, AWS, Heroku. (https://www.youtube.com/watch?v=TLRW_xTnQwY&t=1091s)\n",
    "                    \n",
    "\n"
   ]
  },
  {
   "cell_type": "markdown",
   "id": "150cdc41",
   "metadata": {},
   "source": [
    "### OUTROS TIPOS DE STRINGS/TEXTO"
   ]
  },
  {
   "cell_type": "code",
   "execution_count": 167,
   "id": "b7c6401d",
   "metadata": {},
   "outputs": [
    {
     "data": {
      "text/plain": [
       "b'thallith'"
      ]
     },
     "execution_count": 167,
     "metadata": {},
     "output_type": "execute_result"
    }
   ],
   "source": [
    "r\"raw string\" # texto seco, cru, literal\n",
    "b\"encoded text\" # texto binarizado, encodado\n",
    "\"thallith\".encode(\"ascii\")"
   ]
  },
  {
   "cell_type": "markdown",
   "id": "094d40b5",
   "metadata": {},
   "source": [
    "### LISTAS - Mutáveis"
   ]
  },
  {
   "cell_type": "code",
   "execution_count": 137,
   "id": "5efe80b5",
   "metadata": {},
   "outputs": [
    {
     "data": {
      "text/plain": [
       "'tomate'"
      ]
     },
     "execution_count": 137,
     "metadata": {},
     "output_type": "execute_result"
    }
   ],
   "source": [
    "frutas = [\"tomate\", \"maçã\", \"morango\", \"banana\", \"pêra\", \"pêssego\", \"bergamota\"]\n",
    "frutas[0]\n",
    "    "
   ]
  },
  {
   "cell_type": "markdown",
   "id": "45821870",
   "metadata": {},
   "source": [
    "### DESAFIO 2"
   ]
  },
  {
   "cell_type": "code",
   "execution_count": 168,
   "id": "cb2334da",
   "metadata": {},
   "outputs": [
    {
     "name": "stdout",
     "output_type": "stream",
     "text": [
      "por favor digite seu nome e sobrenome: Thallith Souza\n",
      "As iniciais do seu nome são TS.\n"
     ]
    },
    {
     "ename": "NameError",
     "evalue": "name 'sobenome' is not defined",
     "output_type": "error",
     "traceback": [
      "\u001b[1;31m---------------------------------------------------------------------------\u001b[0m",
      "\u001b[1;31mNameError\u001b[0m                                 Traceback (most recent call last)",
      "\u001b[1;32mC:\\Users\\FATECS~1\\AppData\\Local\\Temp/ipykernel_18864/3496849397.py\u001b[0m in \u001b[0;36m<module>\u001b[1;34m\u001b[0m\n\u001b[0;32m      1\u001b[0m \u001b[0mnome\u001b[0m\u001b[1;33m,\u001b[0m \u001b[0msobrenome\u001b[0m \u001b[1;33m=\u001b[0m \u001b[0minput\u001b[0m\u001b[1;33m(\u001b[0m\u001b[1;34m\"por favor digite seu nome e sobrenome: \"\u001b[0m\u001b[1;33m)\u001b[0m\u001b[1;33m.\u001b[0m\u001b[0msplit\u001b[0m\u001b[1;33m(\u001b[0m\u001b[1;33m)\u001b[0m\u001b[1;33m\u001b[0m\u001b[1;33m\u001b[0m\u001b[0m\n\u001b[0;32m      2\u001b[0m \u001b[0mprint\u001b[0m\u001b[1;33m(\u001b[0m\u001b[1;34mf\"As iniciais do seu nome são {nome[0]}{sobrenome[0]}.\"\u001b[0m\u001b[1;33m)\u001b[0m\u001b[1;33m\u001b[0m\u001b[1;33m\u001b[0m\u001b[0m\n\u001b[1;32m----> 3\u001b[1;33m \u001b[0mprint\u001b[0m\u001b[1;33m(\u001b[0m\u001b[0mnome\u001b[0m\u001b[1;33m[\u001b[0m\u001b[1;36m0\u001b[0m\u001b[1;33m]\u001b[0m \u001b[1;33m+\u001b[0m \u001b[0msobenome\u001b[0m\u001b[1;33m[\u001b[0m\u001b[1;36m0\u001b[0m\u001b[1;33m]\u001b[0m\u001b[1;33m)\u001b[0m\u001b[1;33m\u001b[0m\u001b[1;33m\u001b[0m\u001b[0m\n\u001b[0m\u001b[0;32m      4\u001b[0m \u001b[0mprint\u001b[0m\u001b[1;33m(\u001b[0m\u001b[0mnome\u001b[0m\u001b[1;33m[\u001b[0m\u001b[1;36m0\u001b[0m\u001b[1;33m]\u001b[0m\u001b[1;33m,\u001b[0m\u001b[0msobrenome\u001b[0m\u001b[1;33m[\u001b[0m\u001b[1;36m0\u001b[0m\u001b[1;33m]\u001b[0m\u001b[1;33m,\u001b[0m \u001b[0msep\u001b[0m\u001b[1;33m=\u001b[0m\u001b[1;34m\".\"\u001b[0m\u001b[1;33m)\u001b[0m\u001b[1;33m\u001b[0m\u001b[1;33m\u001b[0m\u001b[0m\n",
      "\u001b[1;31mNameError\u001b[0m: name 'sobenome' is not defined"
     ]
    }
   ],
   "source": [
    "nome, sobrenome = input(\"por favor digite seu nome e sobrenome: \").split()\n",
    "print(f\"As iniciais do seu nome são {nome[0]}{sobrenome[0]}.\")\n",
    "print(nome[0] + sobenome[0])\n",
    "print(nome[0],sobrenome[0], sep=\".\")\n"
   ]
  },
  {
   "cell_type": "markdown",
   "id": "0c660998",
   "metadata": {},
   "source": [
    "# FUNÇÕES"
   ]
  },
  {
   "cell_type": "markdown",
   "id": "90151a5a",
   "metadata": {},
   "source": [
    "### CRIANDO FUNÇÕES PRÓPRIAS"
   ]
  },
  {
   "cell_type": "markdown",
   "id": "915891ad",
   "metadata": {},
   "source": [
    "* função dummy"
   ]
  },
  {
   "cell_type": "code",
   "execution_count": 177,
   "id": "d1db46c2",
   "metadata": {},
   "outputs": [],
   "source": [
    "# criação de função\n",
    "\n",
    "def minha_funcao():\n",
    "    ... # Ellipse # 1 # ...# pass\n",
    "\n",
    "# chamada de função\n",
    "minha_funcao()"
   ]
  },
  {
   "cell_type": "code",
   "execution_count": 194,
   "id": "57fd2396",
   "metadata": {},
   "outputs": [
    {
     "name": "stdout",
     "output_type": "stream",
     "text": [
      "Olá COISAS\n",
      "5COISAS\n"
     ]
    }
   ],
   "source": [
    "# parâmetro padrão\n",
    "def func2(parametro1=\"\", parametro2=\"\"):\n",
    "    return parametro1 + parametro2\n",
    "    \n",
    "valor = func2(\"Olá COISAS\")\n",
    "print(valor)\n",
    "\n",
    "# parâmetro obrigatório\n",
    "\n",
    "def func3(parametro1, parametro2):\n",
    "    return parametro1 + parametro2\n",
    "    \n",
    "valor = func3(\"5\", \"COISAS\")\n",
    "print(valor)\n",
    "\n",
    "         "
   ]
  }
 ],
 "metadata": {
  "kernelspec": {
   "display_name": "Python 3 (ipykernel)",
   "language": "python",
   "name": "python3"
  },
  "language_info": {
   "codemirror_mode": {
    "name": "ipython",
    "version": 3
   },
   "file_extension": ".py",
   "mimetype": "text/x-python",
   "name": "python",
   "nbconvert_exporter": "python",
   "pygments_lexer": "ipython3",
   "version": "3.9.7"
  }
 },
 "nbformat": 4,
 "nbformat_minor": 5
}
